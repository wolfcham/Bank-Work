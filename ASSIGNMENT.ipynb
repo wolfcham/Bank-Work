{
  "nbformat": 4,
  "nbformat_minor": 0,
  "metadata": {
    "colab": {
      "provenance": [],
      "authorship_tag": "ABX9TyNxIQGUZaMPANvf5rBlb6ft",
      "include_colab_link": true
    },
    "kernelspec": {
      "name": "python3",
      "display_name": "Python 3"
    },
    "language_info": {
      "name": "python"
    }
  },
  "cells": [
    {
      "cell_type": "markdown",
      "metadata": {
        "id": "view-in-github",
        "colab_type": "text"
      },
      "source": [
        "<a href=\"https://colab.research.google.com/github/wolfcham/Bank-Work/blob/main/ASSIGNMENT.ipynb\" target=\"_parent\"><img src=\"https://colab.research.google.com/assets/colab-badge.svg\" alt=\"Open In Colab\"/></a>"
      ]
    },
    {
      "cell_type": "code",
      "execution_count": 1,
      "metadata": {
        "id": "1k-bKwh8md8h"
      },
      "outputs": [],
      "source": [
        "from abc import ABC, abstractmethod\n",
        "\n",
        "class Account(ABC):\n",
        "    def __init__(self, name, balance):\n",
        "        self.name = name\n",
        "        self.balance = balance\n",
        "\n",
        "    @abstractmethod\n",
        "    def credit(self, amount):\n",
        "        pass\n",
        "\n",
        "    @abstractmethod\n",
        "    def debit(self, amount):\n",
        "        pass\n",
        "\n",
        "    def get_balance(self):\n",
        "        return self.balance\n",
        "\n",
        "class CheckingAccount(Account):\n",
        "    def credit(self, amount):\n",
        "        self.balance += amount\n",
        "\n",
        "    def debit(self, amount):\n",
        "        if self.balance >= amount:\n",
        "            self.balance -= amount\n",
        "        else:\n",
        "            print(\"Insufficient funds\")\n",
        "\n",
        "class SavingsAccount(Account):\n",
        "    def credit(self, amount):\n",
        "        self.balance += amount\n",
        "\n",
        "    def debit(self, amount):\n",
        "        if self.balance >= amount:\n",
        "            self.balance -= amount\n",
        "        else:\n",
        "            print(\"Insufficient funds\")\n",
        "\n",
        "class BusinessAccount(Account):\n",
        "    def credit(self, amount):\n",
        "        self.balance += amount\n",
        "\n",
        "    def debit(self, amount):\n",
        "        if self.balance >= amount:\n",
        "            self.balance -= amount\n",
        "        else:\n",
        "            print(\"Insufficient funds\")\n",
        "\n"
      ]
    },
    {
      "cell_type": "code",
      "source": [
        "def main():\n",
        "    checking_account = CheckingAccount(\"John Doe\", 1000)\n",
        "    savings_account = SavingsAccount(\"Jane Doe\", 500)\n",
        "    business_account = BusinessAccount(\"Acme Inc.\", 10000)\n",
        "\n",
        "    while True:\n",
        "        print(\"Choose an option:\")\n",
        "        print(\"1. Check balance\")\n",
        "        print(\"2. Credit\")\n",
        "        print(\"3. Debit\")\n",
        "        print(\"4. Exit\")\n",
        "\n",
        "        choice = int(input(\"Enter your choice: \"))\n",
        "        if choice == 1:\n",
        "            print(\"Checking account balance: \", checking_account.get_balance())\n",
        "            print(\"Savings account balance: \", savings_account.get_balance())\n",
        "            print(\"Business account balance: \", business_account.get_balance())\n",
        "        elif choice == 2:\n",
        "            account = input(\"Enter account (checking/savings/business): \")\n",
        "            amount = int(input(\"Enter amount to credit: \"))\n",
        "            if account == \"checking\":\n",
        "                checking_account.credit(amount)\n",
        "            elif account == \"savings\":\n",
        "                savings_account.credit(amount)\n",
        "            elif account == \"business\":\n",
        "                business_account.credit(amount)\n",
        "        elif choice == 3:\n",
        "            account = input(\"Enter account (checking/savings/business): \")\n",
        "            amount = int(input(\"Enter amount to debit: \"))\n",
        "            if account == \"checking\":\n",
        "                checking_account.debit(amount)\n",
        "            elif account == \"savings\":\n",
        "                savings_account.debit(amount)\n",
        "            elif account == \"business\":\n",
        "                business_account.debit(amount)\n",
        "        elif choice == 4:\n",
        "            break\n",
        "        else:\n",
        "            print(\"Invalid choice\")\n",
        "\n",
        "if __name__ == \"__main__\":\n",
        "    main()\n"
      ],
      "metadata": {
        "colab": {
          "base_uri": "https://localhost:8080/"
        },
        "id": "hm9nLF71m11l",
        "outputId": "205db35c-88b2-4794-c8e5-c5c80aa82a26"
      },
      "execution_count": 2,
      "outputs": [
        {
          "name": "stdout",
          "output_type": "stream",
          "text": [
            "Choose an option:\n",
            "1. Check balance\n",
            "2. Credit\n",
            "3. Debit\n",
            "4. Exit\n",
            "Enter your choice: 2\n",
            "Enter account (checking/savings/business): saving\n",
            "Enter amount to credit: 500\n",
            "Choose an option:\n",
            "1. Check balance\n",
            "2. Credit\n",
            "3. Debit\n",
            "4. Exit\n",
            "Enter your choice: 1\n",
            "Checking account balance:  1000\n",
            "Savings account balance:  500\n",
            "Business account balance:  10000\n",
            "Choose an option:\n",
            "1. Check balance\n",
            "2. Credit\n",
            "3. Debit\n",
            "4. Exit\n",
            "Enter your choice: 1\n",
            "Checking account balance:  1000\n",
            "Savings account balance:  500\n",
            "Business account balance:  10000\n",
            "Choose an option:\n",
            "1. Check balance\n",
            "2. Credit\n",
            "3. Debit\n",
            "4. Exit\n",
            "Enter your choice: 4\n"
          ]
        }
      ]
    }
  ]
}